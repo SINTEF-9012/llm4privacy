{
 "cells": [
  {
   "cell_type": "markdown",
   "id": "30a94db7-d82f-4fc2-832d-787174651349",
   "metadata": {},
   "source": [
    "Install libraries, only needed for the first run"
   ]
  },
  {
   "cell_type": "code",
   "execution_count": 1,
   "id": "4a3c9cdd-1577-4a4a-9adb-67d1661c092d",
   "metadata": {},
   "outputs": [
    {
     "name": "stdout",
     "output_type": "stream",
     "text": [
      "Requirement already satisfied: pyyaml in /usr/lib/python3/dist-packages (5.3.1)\n",
      "Requirement already satisfied: openai==1.0.0 in /home/huis/.local/lib/python3.8/site-packages (1.0.0)\n",
      "Requirement already satisfied: distro<2,>=1.7.0 in /home/huis/.local/lib/python3.8/site-packages (from openai==1.0.0) (1.9.0)\n",
      "Requirement already satisfied: typing-extensions<5,>=4.5 in /home/huis/.local/lib/python3.8/site-packages (from openai==1.0.0) (4.5.0)\n",
      "Requirement already satisfied: pydantic<3,>=1.9.0 in /home/huis/.local/lib/python3.8/site-packages (from openai==1.0.0) (1.10.7)\n",
      "Requirement already satisfied: tqdm>4 in /home/huis/.local/lib/python3.8/site-packages (from openai==1.0.0) (4.65.0)\n",
      "Requirement already satisfied: httpx<1,>=0.23.0 in /home/huis/.local/lib/python3.8/site-packages (from openai==1.0.0) (0.26.0)\n",
      "Requirement already satisfied: anyio<4,>=3.5.0 in /home/huis/.local/lib/python3.8/site-packages (from openai==1.0.0) (3.6.2)\n",
      "Requirement already satisfied: httpcore==1.* in /home/huis/.local/lib/python3.8/site-packages (from httpx<1,>=0.23.0->openai==1.0.0) (1.0.2)\n",
      "Requirement already satisfied: sniffio in /home/huis/.local/lib/python3.8/site-packages (from httpx<1,>=0.23.0->openai==1.0.0) (1.3.0)\n",
      "Requirement already satisfied: idna in /usr/lib/python3/dist-packages (from httpx<1,>=0.23.0->openai==1.0.0) (2.8)\n",
      "Requirement already satisfied: certifi in /home/huis/.local/lib/python3.8/site-packages (from httpx<1,>=0.23.0->openai==1.0.0) (2021.5.30)\n",
      "Requirement already satisfied: h11<0.15,>=0.13 in /home/huis/.local/lib/python3.8/site-packages (from httpcore==1.*->httpx<1,>=0.23.0->openai==1.0.0) (0.14.0)\n",
      "Note: you may need to restart the kernel to use updated packages.\n"
     ]
    }
   ],
   "source": [
    "%pip install pyyaml openai==1.0.0"
   ]
  },
  {
   "cell_type": "markdown",
   "id": "b812f2d4-80cf-4dbb-8c51-37dbcf802c4b",
   "metadata": {},
   "source": [
    "Wrapped up methods to call openai"
   ]
  },
  {
   "cell_type": "code",
   "execution_count": 2,
   "id": "c144e947-de09-4b6c-a78a-9913eb4d2d57",
   "metadata": {},
   "outputs": [],
   "source": [
    "from yaml import safe_load\n",
    "import openai\n",
    "GPT_ENGINE = 'gpt-4'"
   ]
  },
  {
   "cell_type": "code",
   "execution_count": 3,
   "id": "e69d3767-058c-43d9-a387-cab5d88201d7",
   "metadata": {},
   "outputs": [
    {
     "name": "stdout",
     "output_type": "stream",
     "text": [
      "1.0.0\n"
     ]
    }
   ],
   "source": [
    "with open(\"openai.credential\", 'r') as stream:\n",
    "        credential_data = safe_load(stream)\n",
    "openai_config = credential_data['openai']\n",
    "openai.api_type = \"azure\"\n",
    "openai.azure_endpoint = openai_config['endpoint']\n",
    "openai.api_version = \"2023-03-15-preview\"\n",
    "openai.api_key = openai_config[\"key\"]\n",
    "print(openai.version.VERSION)\n",
    "\n",
    "def call_api(messages):    \n",
    "    return openai.chat.completions.create(\n",
    "        model=GPT_ENGINE,\n",
    "        messages = messages,\n",
    "        max_tokens = 3000\n",
    "    )\n",
    "\n",
    "def call_with_context(context: list, prompt: str, role='user') -> str:\n",
    "    context.append({'role': role, 'content': prompt})\n",
    "    response = call_api(context)\n",
    "    message = response.choices[0].message\n",
    "    context.append({\"role\": message.role, \"content\": message.content})\n",
    "    return message.content"
   ]
  },
  {
   "cell_type": "markdown",
   "id": "0753bdf8-2a43-4f9c-a7f2-d1e20f05c72f",
   "metadata": {},
   "source": [
    "The main prompt. This is current static, and we should test and see how to improve it. Also, the current prompt only do calassification. We need to think about how to fill in the \"elements\" under each category."
   ]
  },
  {
   "cell_type": "code",
   "execution_count": 6,
   "id": "f9aad371-b1be-4de2-bad7-58abe17dbdee",
   "metadata": {},
   "outputs": [],
   "source": [
    "ORACLE = \"\"\"\\\n",
    "Hi, can we do an exercise related to data privacy? Many websites have the \"privacy policy\", and a paper proposed that there are 10 categories of data practice in such privacy contents:\n",
    "\n",
    "1. First Party Collection/Use: how and why a\n",
    "service provider collects user information.\n",
    "2. Third Party Sharing/Collection: how user information may be shared with or collected by\n",
    "third parties.\n",
    "3. User Choice/Control: choices and control\n",
    "options available to users.\n",
    "4. User Access, Edit, & Deletion: if and how\n",
    "users may access, edit, or delete their information.\n",
    "5. Data Retention: how long user information is\n",
    "stored.\n",
    "6. Data Security: how user information is protected.\n",
    "7. Policy Change: if and how users will be informed about changes to the privacy policy.\n",
    "8. Do Not Track: if and how Do Not Track signals3\n",
    "for online tracking and advertising are\n",
    "honored.\n",
    "9. International & Specific Audiences: practices\n",
    "that pertain only to a specific group of users\n",
    "(e.g., children, Europeans, or California residents).\n",
    "10. Other: additional sub-labels for introductory or general text, contact information, and\n",
    "practices not covered by the other categories.\n",
    "\n",
    "I have a specific task for you: The user will give you a sentence from some privacy contents, and you tell them which category of practices this sentence may contain. \n",
    "\"\"\"\n",
    "\n",
    "context = [{\"role\":\"system\", \"content\":ORACLE}]"
   ]
  },
  {
   "cell_type": "markdown",
   "id": "6c7534a5-bfeb-41c8-93f3-31d59f99ca7e",
   "metadata": {},
   "source": [
    "A first try with only one sentence. We can do this step by step:\n",
    "1. manually create a list or dictionary with some sentences from the corpus\n",
    "2. read the csv files from the corpus to extract some sentences and their annotations."
   ]
  },
  {
   "cell_type": "code",
   "execution_count": 9,
   "id": "166f167b-3874-4b8f-af47-c3092c5c6b1e",
   "metadata": {},
   "outputs": [
    {
     "name": "stdout",
     "output_type": "stream",
     "text": [
      "Sentence: By visiting Amazon.com, you are accepting the practices described in this Privacy Notice\n",
      "Answer: This sentence falls under the category 10: Other. It serves as an introductory statement that informs users they are agreeing to the practices described in Amazon's Privacy Notice upon visiting the website.\n",
      "---------------\n",
      "Sentence: If you do not want to receive e-mail or other mail from us, please adjust your Customer Communication Preferences.\n",
      "Answer: This sentence falls under the category 3: User Choice/Control. It informs users that they have the option to adjust their communication preferences if they do not wish to receive emails or other communication from the service provider.\n",
      "---------------\n",
      "Sentence: When you download or use apps created by Amazon or our subsidiaries, we may receive information about your location and your mobile device, including a unique identifier for your device\n",
      "Answer: This sentence falls under the category 1: First Party Collection/Use. It explains how Amazon may collect user location and device information when they download or use apps created by Amazon or its subsidiaries.\n",
      "---------------\n",
      "Sentence: Information about our customers is an important part of our business, and we are not in the business of selling it to others. \n",
      "Answer: This sentence falls under the category 2: Third Party Sharing/Collection. It states that the service provider (Amazon) does not sell customer information to third parties, emphasizing the importance of customer data for their business.\n",
      "---------------\n"
     ]
    }
   ],
   "source": [
    "samples = [\n",
    "    \"By visiting Amazon.com, you are accepting the practices described in this Privacy Notice\",\n",
    "    \"If you do not want to receive e-mail or other mail from us, please adjust your Customer Communication Preferences.\",\n",
    "    \"When you download or use apps created by Amazon or our subsidiaries, we may receive information about your location and your mobile device, including a unique identifier for your device\",\n",
    "    \"Information about our customers is an important part of our business, and we are not in the business of selling it to others. \"\n",
    "]\n",
    "\n",
    "for sentence in samples:\n",
    "    answer = call_with_context(context, sentence)\n",
    "    print(\"Sentence: \" + sentence)\n",
    "    print(\"Answer: \" + answer)\n",
    "    print(\"---------------\")"
   ]
  },
  {
   "cell_type": "code",
   "execution_count": null,
   "id": "af4f0a99-bda4-4a7b-8546-1c5c97eb7415",
   "metadata": {},
   "outputs": [],
   "source": []
  },
  {
   "cell_type": "code",
   "execution_count": null,
   "id": "d40e4501-d295-421c-b9d2-dc04ac8d04c2",
   "metadata": {},
   "outputs": [],
   "source": []
  }
 ],
 "metadata": {
  "kernelspec": {
   "display_name": "Python 3 (ipykernel)",
   "language": "python",
   "name": "python3"
  },
  "language_info": {
   "codemirror_mode": {
    "name": "ipython",
    "version": 3
   },
   "file_extension": ".py",
   "mimetype": "text/x-python",
   "name": "python",
   "nbconvert_exporter": "python",
   "pygments_lexer": "ipython3",
   "version": "3.8.2"
  }
 },
 "nbformat": 4,
 "nbformat_minor": 5
}
